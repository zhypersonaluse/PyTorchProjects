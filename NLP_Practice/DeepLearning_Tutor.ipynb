{
 "cells": [
  {
   "cell_type": "code",
   "execution_count": 9,
   "id": "8f9b66c0",
   "metadata": {},
   "outputs": [
    {
     "data": {
      "text/plain": [
       "<torch._C.Generator at 0x1bbbcfb21d0>"
      ]
     },
     "execution_count": 9,
     "metadata": {},
     "output_type": "execute_result"
    }
   ],
   "source": [
    "import torch\n",
    "import torch.nn as nn\n",
    "import torch.nn.functional as F\n",
    "import torch.optim as optim\n",
    "torch.manual_seed(1)"
   ]
  },
  {
   "cell_type": "code",
   "execution_count": 10,
   "id": "2d4c46ad",
   "metadata": {},
   "outputs": [
    {
     "name": "stdout",
     "output_type": "stream",
     "text": [
      "tensor([[-0.1146,  0.3167,  0.1321],\n",
      "        [-0.2446,  0.2364, -0.0377]], grad_fn=<AddmmBackward0>)\n"
     ]
    }
   ],
   "source": [
    "lin=nn.Linear(5,3)\n",
    "data=torch.rand(2,5)\n",
    "print(lin(data))"
   ]
  },
  {
   "cell_type": "code",
   "execution_count": 11,
   "id": "fc2dcc54",
   "metadata": {},
   "outputs": [
    {
     "name": "stdout",
     "output_type": "stream",
     "text": [
      "Parameter containing:\n",
      "tensor([[ 0.2304, -0.1974, -0.0867,  0.2099, -0.4210],\n",
      "        [ 0.2682, -0.0920,  0.2275,  0.0622, -0.0548],\n",
      "        [ 0.1240,  0.0221,  0.1633, -0.1743, -0.0326]], requires_grad=True)\n"
     ]
    }
   ],
   "source": [
    "print(lin.weight)"
   ]
  },
  {
   "cell_type": "code",
   "execution_count": 12,
   "id": "65c7a0fd",
   "metadata": {},
   "outputs": [
    {
     "name": "stdout",
     "output_type": "stream",
     "text": [
      "tensor([[0.9371, 0.6556, 0.3138, 0.1980, 0.4162],\n",
      "        [0.2843, 0.3398, 0.5239, 0.7981, 0.7718]])\n"
     ]
    }
   ],
   "source": [
    "print(data)"
   ]
  },
  {
   "cell_type": "code",
   "execution_count": 13,
   "id": "edd7213e",
   "metadata": {},
   "outputs": [
    {
     "name": "stdout",
     "output_type": "stream",
     "text": [
      "Parameter containing:\n",
      "tensor([-0.0403,  0.0648, -0.0018], requires_grad=True)\n"
     ]
    }
   ],
   "source": [
    "print(lin.bias)"
   ]
  },
  {
   "cell_type": "code",
   "execution_count": 14,
   "id": "cca8583a",
   "metadata": {},
   "outputs": [
    {
     "name": "stdout",
     "output_type": "stream",
     "text": [
      "tensor([[ 0.4224,  0.2673],\n",
      "        [-0.4212, -0.5107]])\n",
      "tensor([[0.4224, 0.2673],\n",
      "        [0.0000, 0.0000]])\n"
     ]
    }
   ],
   "source": [
    "data=torch.randn(2,2)\n",
    "print(data)\n",
    "print(F.relu(data))"
   ]
  },
  {
   "cell_type": "code",
   "execution_count": 18,
   "id": "323a1d06",
   "metadata": {},
   "outputs": [
    {
     "name": "stdout",
     "output_type": "stream",
     "text": [
      "tensor([-2.2590,  0.6067, -0.1383,  0.8310, -0.2477])\n",
      "tensor([0.0177, 0.3117, 0.1480, 0.3900, 0.1326])\n",
      "tensor(1.0000)\n",
      "tensor([-4.0316, -1.1659, -1.9109, -0.9415, -2.0203])\n"
     ]
    }
   ],
   "source": [
    "data=torch.randn(5)\n",
    "print(data)\n",
    "print(F.softmax(data,dim=0))\n",
    "print(F.softmax(data,dim=0).sum())\n",
    "print(F.log_softmax(data,dim=0))"
   ]
  },
  {
   "cell_type": "code",
   "execution_count": null,
   "id": "26971c13",
   "metadata": {},
   "outputs": [
    {
     "name": "stdout",
     "output_type": "stream",
     "text": [
      "{'me': 0, 'gusta': 1, 'comer': 2, 'en': 3, 'la': 4, 'cafeteria': 5, 'Give': 6, 'it': 7, 'to': 8, 'No': 9, 'creo': 10, 'que': 11, 'sea': 12, 'una': 13, 'buena': 14, 'idea': 15, 'is': 16, 'not': 17, 'a': 18, 'good': 19, 'get': 20, 'lost': 21, 'at': 22, 'Yo': 23, 'si': 24, 'on': 25}\n",
      "Parameter containing:\n",
      "tensor([[ 0.1887,  0.1260, -0.0973, -0.1513,  0.1100, -0.1074,  0.0900, -0.1680,\n",
      "          0.1431,  0.0588, -0.0225,  0.0899, -0.1396, -0.0429,  0.0019, -0.1133,\n",
      "         -0.0501, -0.0846,  0.1869,  0.1666,  0.1691,  0.1603, -0.1878,  0.0656,\n",
      "          0.0723, -0.1438],\n",
      "        [ 0.0795, -0.1064,  0.0312,  0.0650,  0.1692, -0.1029, -0.1543,  0.1815,\n",
      "          0.0823,  0.0953,  0.0706, -0.0694,  0.1180, -0.1712,  0.0273,  0.0887,\n",
      "          0.1340, -0.0979, -0.1326,  0.0735, -0.1557, -0.1630, -0.1764, -0.0951,\n",
      "         -0.0374, -0.1161]], requires_grad=True)\n",
      "Parameter containing:\n",
      "tensor([-0.0829, -0.1737], requires_grad=True)\n",
      "tensor([[-0.6813, -0.7051]])\n"
     ]
    }
   ],
   "source": [
    "data = [(\"me gusta comer en la cafeteria\".split(), \"SPANISH\"),\n",
    "        (\"Give it to me\".split(), \"ENGLISH\"),\n",
    "        (\"No creo que sea una buena idea\".split(), \"SPANISH\"),\n",
    "        (\"No it is not a good idea to get lost at sea\".split(), \"ENGLISH\")]\n",
    "\n",
    "test_data = [(\"Yo creo que si\".split(), \"SPANISH\"),\n",
    "             (\"it is lost on me\".split(), \"ENGLISH\")]\n",
    "\n",
    "word_to_ix={}\n",
    "for sent,_ in data+test_data:\n",
    "    for word in sent:\n",
    "        if word not in word_to_ix:\n",
    "            word_to_ix[word]=len(word_to_ix)\n",
    "print(word_to_ix)\n",
    "\n",
    "VOCAB_SIZE =len(word_to_ix)\n",
    "NUM_LABELS=2\n",
    "\n",
    "class BowClassifier(nn.Module):\n",
    "    \n",
    "    def __init__(self,num_labels,vocab_size):\n",
    "        super(BowClassifier,self).__init__()\n",
    "        #input:vocab_size, output:num_labels\n",
    "        self.linear=nn.Linear(vocab_size,num_labels)\n",
    "\n",
    "    def forward(self,bow_vec):\n",
    "        #Why to set dim =1, reference https://discuss.pytorch.org/t/how-to-choose-dim-0-1-for-softmax-or-logsoftmax/52676\n",
    "        return F.log_softmax(self.linear(bow_vec),dim=1)\n",
    "    \n",
    "def make_bow_vector(sentence,word_to_ix):\n",
    "    vec=torch.zeros(len(word_to_ix))\n",
    "    for word in sentence:\n",
    "        vec[word_to_ix[word]]+=1\n",
    "    return vec.view(1,-1)\n",
    "\n",
    "def make_target(label,label_to_ix):\n",
    "    return torch.LongTensor([label_to_ix[label]])\n",
    "\n",
    "model=BowClassifier(NUM_LABELS,VOCAB_SIZE)\n",
    "for param in model.parameters():\n",
    "    print(param)\n",
    "\n",
    "with torch.no_grad():\n",
    "    sample=data[0]\n",
    "    bow_vector=make_bow_vector(sample[0],word_to_ix)\n",
    "    log_probs=model(bow_vector)\n",
    "    print(log_probs)\n"
   ]
  },
  {
   "cell_type": "code",
   "execution_count": 38,
   "id": "66b224fb",
   "metadata": {},
   "outputs": [],
   "source": [
    "label_to_ix={\"SPANISH\":0,\"ENGLISH\":1}"
   ]
  },
  {
   "cell_type": "code",
   "execution_count": 39,
   "id": "f3011c92",
   "metadata": {},
   "outputs": [
    {
     "name": "stdout",
     "output_type": "stream",
     "text": [
      "tensor([[-0.5021, -0.9295]])\n",
      "tensor([[-0.7124, -0.6743]])\n",
      "tensor([-0.0225,  0.0706], grad_fn=<SelectBackward0>)\n",
      "tensor([[-0.0856, -2.5002]])\n",
      "tensor([[-2.8329, -0.0606]])\n",
      "tensor([ 0.4310, -0.3830], grad_fn=<SelectBackward0>)\n"
     ]
    }
   ],
   "source": [
    "# Run on test data before we train, just to see a before-and-after\n",
    "with torch.no_grad():\n",
    "    for instance, label in test_data:\n",
    "        bow_vec = make_bow_vector(instance, word_to_ix)\n",
    "        log_probs = model(bow_vec)\n",
    "        print(log_probs)\n",
    "\n",
    "print(next(model.parameters())[:,word_to_ix['creo']])\n",
    "\n",
    "#How to choose correct loss function?\n",
    "loss_function=nn.NLLLoss()\n",
    "#How to choose corresponding optimizer?\n",
    "optimizer=optim.SGD(model.parameters(),lr=0.1)\n",
    "\n",
    "for epoch in range(100):\n",
    "    for instance,label in data:\n",
    "        # Step 1. Remember that PyTorch accumulates gradients.\n",
    "        # We need to clear them out before each instance\n",
    "        model.zero_grad()\n",
    "\n",
    "        #Input Preparation\n",
    "        bow_vec=make_bow_vector(instance,word_to_ix)\n",
    "        target=make_target(label,label_to_ix)\n",
    "\n",
    "        #Forwad\n",
    "        log_probs=model(bow_vec)\n",
    "\n",
    "        loss=loss_function(log_probs,target)\n",
    "        #Calculate gradient descent?\n",
    "        loss.backward()\n",
    "        optimizer.step()\n",
    "\n",
    "with torch.no_grad():\n",
    "    for instance, label in test_data:\n",
    "        bow_vec = make_bow_vector(instance, word_to_ix)\n",
    "        log_probs = model(bow_vec)\n",
    "        print(log_probs)\n",
    "\n",
    "print(next(model.parameters())[:,word_to_ix[\"creo\"]])\n",
    "\n",
    "\n",
    "\n"
   ]
  }
 ],
 "metadata": {
  "kernelspec": {
   "display_name": "Python 3",
   "language": "python",
   "name": "python3"
  },
  "language_info": {
   "codemirror_mode": {
    "name": "ipython",
    "version": 3
   },
   "file_extension": ".py",
   "mimetype": "text/x-python",
   "name": "python",
   "nbconvert_exporter": "python",
   "pygments_lexer": "ipython3",
   "version": "3.12.8"
  }
 },
 "nbformat": 4,
 "nbformat_minor": 5
}
