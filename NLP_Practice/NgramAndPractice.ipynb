{
 "cells": [
  {
   "cell_type": "code",
   "execution_count": 4,
   "id": "0c5605a4",
   "metadata": {},
   "outputs": [
    {
     "data": {
      "text/plain": [
       "<torch._C.Generator at 0x234cfe67db0>"
      ]
     },
     "execution_count": 4,
     "metadata": {},
     "output_type": "execute_result"
    }
   ],
   "source": [
    "import torch\n",
    "import torch.nn as nn\n",
    "import torch.nn.functional as F\n",
    "import torch.optim as optim\n",
    "torch.manual_seed(1)"
   ]
  },
  {
   "cell_type": "code",
   "execution_count": 5,
   "id": "c1259b36",
   "metadata": {},
   "outputs": [
    {
     "name": "stdout",
     "output_type": "stream",
     "text": [
      "tensor([[ 0.6614,  0.2669,  0.0617,  0.6213, -0.4519]],\n",
      "       grad_fn=<EmbeddingBackward0>)\n"
     ]
    }
   ],
   "source": [
    "word_to_ix={\"hello\":0,\"world\":1}\n",
    "embeds=nn.Embedding(2,5)\n",
    "lookup_tensor=torch.tensor([word_to_ix[\"hello\"]],dtype=torch.long)\n",
    "hello_embed=embeds(lookup_tensor)\n",
    "print(hello_embed)"
   ]
  },
  {
   "cell_type": "code",
   "execution_count": 6,
   "id": "b35ba0fd",
   "metadata": {},
   "outputs": [
    {
     "name": "stdout",
     "output_type": "stream",
     "text": [
      "[(['forty', 'When'], 'winters'), (['winters', 'forty'], 'shall'), (['shall', 'winters'], 'besiege')]\n",
      "[525.2006106376648, 522.4754686355591, 519.7737712860107, 517.0938696861267, 514.4331469535828, 511.791307926178, 509.16636896133423, 506.5581052303314, 503.965904712677, 501.38914132118225]\n",
      "tensor([ 1.3839, -0.8137, -0.9272,  1.1122,  0.6131,  0.1945, -2.5820,  0.8558,\n",
      "        -2.1038, -0.6192], grad_fn=<SelectBackward0>)\n"
     ]
    }
   ],
   "source": [
    "CONTEXT_SIZE = 2\n",
    "EMBEDDING_DIM = 10\n",
    "# We will use Shakespeare Sonnet 2\n",
    "test_sentence = \"\"\"When forty winters shall besiege thy brow,\n",
    "And dig deep trenches in thy beauty's field,\n",
    "Thy youth's proud livery so gazed on now,\n",
    "Will be a totter'd weed of small worth held:\n",
    "Then being asked, where all thy beauty lies,\n",
    "Where all the treasure of thy lusty days;\n",
    "To say, within thine own deep sunken eyes,\n",
    "Were an all-eating shame, and thriftless praise.\n",
    "How much more praise deserv'd thy beauty's use,\n",
    "If thou couldst answer 'This fair child of mine\n",
    "Shall sum my count, and make my old excuse,'\n",
    "Proving his beauty by succession thine!\n",
    "This were to be new made when thou art old,\n",
    "And see thy blood warm when thou feel'st it cold.\"\"\".split()\n",
    "# we should tokenize the input, but we will ignore that for now\n",
    "# build a list of tuples.\n",
    "# Each tuple is ([ word_i-CONTEXT_SIZE, ..., word_i-1 ], target word)\n",
    "ngrams = [\n",
    "    (\n",
    "        [test_sentence[i - j - 1] for j in range(CONTEXT_SIZE)],\n",
    "        test_sentence[i]\n",
    "    )\n",
    "    for i in range(CONTEXT_SIZE, len(test_sentence))\n",
    "]\n",
    "# Print the first 3, just so you can see what they look like.\n",
    "print(ngrams[:3])\n",
    "\n",
    "vocab = set(test_sentence)\n",
    "word_to_ix = {word: i for i, word in enumerate(vocab)}\n",
    "\n",
    "class NGramLanguageModeler(nn.Module):\n",
    "\n",
    "    def __init__(self,vocab_size,embedding_dim,context_size):\n",
    "        super(NGramLanguageModeler,self).__init__()\n",
    "        self.embeddings=nn.Embedding(vocab_size,embedding_dim)\n",
    "        self.linear1=nn.Linear(context_size*embedding_dim,128)\n",
    "        self.linear2=nn.Linear(128,vocab_size)\n",
    "\n",
    "    def forward(self,inputs):\n",
    "        embeds=self.embeddings(inputs).view((1,-1))#view ==reshape?\n",
    "        out=F.relu(self.linear1(embeds))\n",
    "        out=self.linear2(out)\n",
    "        log_probs=F.log_softmax(out,dim=1)\n",
    "        return log_probs\n",
    "\n",
    "losses=[]\n",
    "loss_function=nn.NLLLoss()\n",
    "model=NGramLanguageModeler(len(vocab),EMBEDDING_DIM,CONTEXT_SIZE)\n",
    "optimizer=optim.SGD(model.parameters(),lr=0.001)\n",
    "\n",
    "for epoch in range(10):\n",
    "    total_loss=0\n",
    "    for context,target in ngrams:\n",
    "        context_idxs=torch.tensor([word_to_ix[w] for w in context],dtype=torch.long)\n",
    "\n",
    "        model.zero_grad()\n",
    "\n",
    "        log_probs=model(context_idxs)\n",
    "\n",
    "        loss=loss_function(log_probs,torch.tensor([word_to_ix[target]],dtype=torch.long))\n",
    "\n",
    "        loss.backward()\n",
    "        optimizer.step()\n",
    "\n",
    "        total_loss+=loss.item()\n",
    "    losses.append(total_loss)\n",
    "\n",
    "print(losses)\n",
    "\n",
    "print(model.embeddings.weight[word_to_ix['beauty']])"
   ]
  },
  {
   "cell_type": "markdown",
   "id": "040922b5",
   "metadata": {},
   "source": [
    "# Exercise"
   ]
  },
  {
   "cell_type": "code",
   "execution_count": 29,
   "id": "4f96da07",
   "metadata": {},
   "outputs": [
    {
     "name": "stdout",
     "output_type": "stream",
     "text": [
      "[(['are', 'We', 'to', 'study'], 'about'), (['about', 'are', 'study', 'the'], 'to'), (['to', 'about', 'the', 'idea'], 'study'), (['study', 'to', 'idea', 'of'], 'the'), (['the', 'study', 'of', 'a'], 'idea')]\n",
      "dict_keys(['The', 'As', 'Computational', 'inhabit', 'processes', 'beings', 'our', 'are', 'called', 'process.', 'conjure', 'evolution', 'direct', 'we', 'spirits', 'of', 'create', 'directed', 'things', 'computational', 'manipulate', 'pattern', 'abstract', 'In', 'programs', 'the', 'that', 'study', 'evolve,', 'spells.', 'to', 'a', 'about', 'process', 'data.', 'processes.', 'with', 'rules', 'computer', 'We', 'idea', 'computers.', 'is', 'People', 'by', 'other', 'they', 'program.', 'effect,'])\n",
      "49\n",
      "[228.643328666687, 227.18488883972168, 225.73658299446106, 224.29793000221252, 222.8684265613556, 221.4464988708496, 220.03250312805176, 218.62476420402527, 217.224102973938, 215.82932925224304]\n",
      "tensor([ 1.1214, -0.2585, -0.7867,  1.2850,  1.1023,  1.3475, -0.9912,  0.4632,\n",
      "        -0.5885, -0.3254], grad_fn=<SelectBackward0>)\n"
     ]
    }
   ],
   "source": [
    "CONTEXT_SIZE = 2 # 2 words to the left, 2 to the right\n",
    "raw_text = \"\"\"We are about to study the idea of a computational process.\n",
    "Computational processes are abstract beings that inhabit computers.\n",
    "As they evolve, processes manipulate other abstract things called data.\n",
    "The evolution of a process is directed by a pattern of rules\n",
    "called a program. People create programs to direct processes. In effect,\n",
    "we conjure the spirits of the computer with our spells.\"\"\".split()\n",
    "\n",
    "# By deriving a set from `raw_text`, we deduplicate the array\n",
    "vocab = set(raw_text)\n",
    "vocab_size = len(vocab)\n",
    "\n",
    "word_to_ix = {word: i for i, word in enumerate(vocab)}\n",
    "data = []\n",
    "for i in range(CONTEXT_SIZE, len(raw_text) - CONTEXT_SIZE):\n",
    "    context = (\n",
    "        [raw_text[i - j - 1] for j in range(CONTEXT_SIZE)]\n",
    "        + [raw_text[i + j + 1] for j in range(CONTEXT_SIZE)]\n",
    "    )\n",
    "    target = raw_text[i]\n",
    "    data.append((context, target))\n",
    "print(data[:5])\n",
    "print(word_to_ix.keys())\n",
    "print(vocab_size)\n",
    "\n",
    "class CBOW(nn.Module):\n",
    "\n",
    "    def __init__(self,vocab_size,embedding_dim,context_size):\n",
    "        super(CBOW,self).__init__()\n",
    "        self.embeddings=nn.Embedding(vocab_size,embedding_dim)\n",
    "        self.Linear1=nn.Linear(context_size*embedding_dim,128)\n",
    "        self.Linear2=nn.Linear(128,vocab_size)\n",
    "\n",
    "    def forward(self, inputs):\n",
    "        embeds=self.embeddings(inputs).view(1,-1)\n",
    "        out=F.relu(self.Linear1(embeds))\n",
    "        out=self.Linear2(out)\n",
    "        log_probs=F.log_softmax(out,dim=1)\n",
    "        return log_probs\n",
    "\n",
    "# Create your model and train. Here are some functions to help you make\n",
    "# the data ready for use by your module.\n",
    "\n",
    "def make_context_vector(context, word_to_ix):\n",
    "    idxs = [word_to_ix[w] for w in context]\n",
    "    return torch.tensor(idxs, dtype=torch.long)\n",
    "\n",
    "make_context_vector(data[0][0], word_to_ix)  # example\n",
    "\n",
    "\n",
    "losses=[]\n",
    "loss_function=nn.NLLLoss()\n",
    "model=CBOW(vocab_size,EMBEDDING_DIM,CONTEXT_SIZE*2)\n",
    "optimizer=optim.SGD(model.parameters(),lr=0.001)\n",
    "\n",
    "for epoch in range(10):\n",
    "    total_loss=0\n",
    "    for context,target in data:\n",
    "        context_idxs=make_context_vector(context,word_to_ix)\n",
    "        model.zero_grad()\n",
    "\n",
    "        log_probs=model(context_idxs)\n",
    "\n",
    "        loss=loss_function(log_probs,torch.tensor([word_to_ix[target]],dtype=torch.long))\n",
    "\n",
    "        loss.backward()\n",
    "        optimizer.step()\n",
    "\n",
    "        total_loss+=loss.item()\n",
    "    losses.append(total_loss)\n",
    "\n",
    "print(losses)\n",
    "\n",
    "print(model.embeddings.weight[word_to_ix['pattern']])\n"
   ]
  }
 ],
 "metadata": {
  "kernelspec": {
   "display_name": "Python 3",
   "language": "python",
   "name": "python3"
  },
  "language_info": {
   "codemirror_mode": {
    "name": "ipython",
    "version": 3
   },
   "file_extension": ".py",
   "mimetype": "text/x-python",
   "name": "python",
   "nbconvert_exporter": "python",
   "pygments_lexer": "ipython3",
   "version": "3.12.8"
  }
 },
 "nbformat": 4,
 "nbformat_minor": 5
}
