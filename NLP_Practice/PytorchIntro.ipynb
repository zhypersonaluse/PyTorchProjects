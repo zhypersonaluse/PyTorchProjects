{
 "cells": [
  {
   "cell_type": "code",
   "execution_count": 165,
   "id": "da2e312a",
   "metadata": {},
   "outputs": [
    {
     "data": {
      "text/plain": [
       "<torch._C.Generator at 0x19cd5e0e610>"
      ]
     },
     "execution_count": 165,
     "metadata": {},
     "output_type": "execute_result"
    }
   ],
   "source": [
    "import torch\n",
    "torch.manual_seed(1)"
   ]
  },
  {
   "cell_type": "code",
   "execution_count": 166,
   "id": "e44d9215",
   "metadata": {},
   "outputs": [
    {
     "name": "stdout",
     "output_type": "stream",
     "text": [
      "tensor([1., 2., 3.])\n",
      "tensor([[1., 2., 3.],\n",
      "        [4., 5., 6.]])\n",
      "tensor([[[1., 2.],\n",
      "         [3., 4.]],\n",
      "\n",
      "        [[5., 6.],\n",
      "         [7., 8.]]])\n",
      "torch.Size([2, 2, 2])\n"
     ]
    }
   ],
   "source": [
    "#Vector\n",
    "v_data=[1.,2.,3.]\n",
    "V=torch.tensor(v_data)\n",
    "print(V)\n",
    "\n",
    "#Matrix\n",
    "M_data=[[1.,2.,3.],[4.,5.,6.]]\n",
    "M=torch.tensor(M_data)\n",
    "print(M)\n",
    "\n",
    "#3-D Data\n",
    "T_data=[[[1.,2.],[3.,4.]],\n",
    "        [[5.,6.],[7.,8.]]]\n",
    "T=torch.tensor(T_data)\n",
    "print(T)\n",
    "print(T.shape)"
   ]
  },
  {
   "cell_type": "code",
   "execution_count": 167,
   "id": "d5b5fbdc",
   "metadata": {},
   "outputs": [
    {
     "name": "stdout",
     "output_type": "stream",
     "text": [
      "tensor(1.)\n",
      "1.0\n",
      "tensor([1., 2., 3.])\n",
      "tensor([[1., 2.],\n",
      "        [3., 4.]])\n"
     ]
    }
   ],
   "source": [
    "\n",
    "print(V[0])\n",
    "print(V[0].item())\n",
    "print(M[0])\n",
    "print(T[0])"
   ]
  },
  {
   "cell_type": "code",
   "execution_count": 168,
   "id": "ecdf7dbb",
   "metadata": {},
   "outputs": [
    {
     "data": {
      "text/plain": [
       "tensor([[[-1.5256, -0.7502, -0.6540, -1.6095, -0.1002],\n",
       "         [-0.6092, -0.9798, -1.6091, -0.7121,  0.3037],\n",
       "         [-0.7773, -0.2515, -0.2223,  1.6871,  0.2284],\n",
       "         [ 0.4676, -0.6970, -1.1608,  0.6995,  0.1991]],\n",
       "\n",
       "        [[ 0.8657,  0.2444, -0.6629,  0.8073,  1.1017],\n",
       "         [-0.1759, -2.2456, -1.4465,  0.0612, -0.6177],\n",
       "         [-0.7981, -0.1316,  1.8793, -0.0721,  0.1578],\n",
       "         [-0.7735,  0.1991,  0.0457,  0.1530, -0.4757]],\n",
       "\n",
       "        [[-0.1110,  0.2927, -0.1578, -0.0288,  0.4533],\n",
       "         [ 1.1422,  0.2486, -1.7754, -0.0255, -1.0233],\n",
       "         [-0.5962, -1.0055,  0.4285,  1.4761, -1.7869],\n",
       "         [ 1.6103, -0.7040, -0.1853, -0.9962, -0.8313]]])"
      ]
     },
     "execution_count": 168,
     "metadata": {},
     "output_type": "execute_result"
    }
   ],
   "source": [
    "torch.randn((3,4,5))"
   ]
  },
  {
   "cell_type": "code",
   "execution_count": 169,
   "id": "3d91ddbc",
   "metadata": {},
   "outputs": [
    {
     "name": "stdout",
     "output_type": "stream",
     "text": [
      "tensor([5., 7., 9.])\n"
     ]
    }
   ],
   "source": [
    "x=torch.tensor([1.,2.,3.])\n",
    "y=torch.tensor([4.,5.,6.])\n",
    "z=x+y\n",
    "print(z)"
   ]
  },
  {
   "cell_type": "code",
   "execution_count": 170,
   "id": "c95bcee5",
   "metadata": {},
   "outputs": [
    {
     "name": "stdout",
     "output_type": "stream",
     "text": [
      "tensor([[0.6818, 0.7479, 0.0369, 0.7517, 0.1484],\n",
      "        [0.1227, 0.5304, 0.4148, 0.7937, 0.2104],\n",
      "        [0.0555, 0.8639, 0.4259, 0.7812, 0.6607],\n",
      "        [0.1251, 0.6004, 0.6201, 0.1652, 0.2628],\n",
      "        [0.6705, 0.5896, 0.2873, 0.3486, 0.9579]])\n",
      "tensor([[-0.1010,  1.6197, -0.5581, -1.6396,  2.3906, -0.5024,  0.0476, -1.1322],\n",
      "        [-0.3964,  1.4130, -2.6119, -0.0179,  0.1280, -0.5552, -0.4575, -1.9599]])\n"
     ]
    }
   ],
   "source": [
    "x_1=torch.rand(2,5)\n",
    "y_1=torch.rand(3,5)\n",
    "z_1=torch.cat([x_1,y_1])\n",
    "print(z_1)\n",
    "\n",
    "x_2=torch.randn(2,3)\n",
    "y_2=torch.randn(2,5)\n",
    "z_2=torch.cat([x_2,y_2],1)\n",
    "print(z_2)\n"
   ]
  },
  {
   "cell_type": "code",
   "execution_count": 171,
   "id": "c23a6ce6",
   "metadata": {},
   "outputs": [
    {
     "name": "stdout",
     "output_type": "stream",
     "text": [
      "tensor([[[0.8313, 0.8116, 0.8553, 0.8163],\n",
      "         [0.6291, 0.1581, 0.0801, 0.2709],\n",
      "         [0.4418, 0.1935, 0.6829, 0.6547]],\n",
      "\n",
      "        [[0.3868, 0.6922, 0.6616, 0.8053],\n",
      "         [0.8367, 0.3307, 0.9885, 0.4422],\n",
      "         [0.4828, 0.0281, 0.1782, 0.2079]]])\n",
      "tensor([[0.8313, 0.8116, 0.8553, 0.8163, 0.6291, 0.1581, 0.0801, 0.2709, 0.4418,\n",
      "         0.1935, 0.6829, 0.6547],\n",
      "        [0.3868, 0.6922, 0.6616, 0.8053, 0.8367, 0.3307, 0.9885, 0.4422, 0.4828,\n",
      "         0.0281, 0.1782, 0.2079]])\n",
      "tensor([[0.8313, 0.8116, 0.8553, 0.8163, 0.6291, 0.1581, 0.0801, 0.2709, 0.4418,\n",
      "         0.1935, 0.6829, 0.6547],\n",
      "        [0.3868, 0.6922, 0.6616, 0.8053, 0.8367, 0.3307, 0.9885, 0.4422, 0.4828,\n",
      "         0.0281, 0.1782, 0.2079]])\n"
     ]
    }
   ],
   "source": [
    "x=torch.rand(2,3,4)\n",
    "print(x)\n",
    "print(x.view(2,12))\n",
    "print(x.view(2,-1))"
   ]
  },
  {
   "cell_type": "code",
   "execution_count": 172,
   "id": "778ac919",
   "metadata": {},
   "outputs": [
    {
     "name": "stdout",
     "output_type": "stream",
     "text": [
      "tensor([5., 7., 9.], grad_fn=<AddBackward0>)\n",
      "<AddBackward0 object at 0x0000019CE0CD4820>\n"
     ]
    }
   ],
   "source": [
    "x=torch.tensor([1.,2.,3.],requires_grad=True)\n",
    "y=torch.tensor([4.,5.,6.],requires_grad=True)\n",
    "z=x+y\n",
    "print(z)\n",
    "print(z.grad_fn)"
   ]
  },
  {
   "cell_type": "code",
   "execution_count": 173,
   "id": "e3784d1a",
   "metadata": {},
   "outputs": [
    {
     "name": "stdout",
     "output_type": "stream",
     "text": [
      "tensor(21., grad_fn=<SumBackward0>)\n",
      "<SumBackward0 object at 0x0000019CE0CD4340>\n"
     ]
    }
   ],
   "source": [
    "s=z.sum()\n",
    "print(s)\n",
    "print(s.grad_fn)"
   ]
  },
  {
   "cell_type": "code",
   "execution_count": 174,
   "id": "501eb5fa",
   "metadata": {},
   "outputs": [
    {
     "name": "stdout",
     "output_type": "stream",
     "text": [
      "tensor([1., 1., 1.])\n",
      "tensor([1., 1., 1.])\n"
     ]
    }
   ],
   "source": [
    "s.backward()\n",
    "print(x.grad)\n",
    "print(y.grad)"
   ]
  },
  {
   "cell_type": "code",
   "execution_count": 175,
   "id": "6e4300f0",
   "metadata": {},
   "outputs": [
    {
     "name": "stdout",
     "output_type": "stream",
     "text": [
      "False False\n",
      "None\n",
      "<AddBackward0 object at 0x0000019CE0CD5120>\n",
      "True\n",
      "None\n"
     ]
    }
   ],
   "source": [
    "x=torch.randn(2,2)\n",
    "y=torch.randn(2,2)\n",
    "print(x.requires_grad,y.requires_grad)\n",
    "z=x+y\n",
    "print(z.grad_fn)\n",
    "\n",
    "x=x.requires_grad_()\n",
    "y=y.requires_grad_()\n",
    "z=x+y\n",
    "print(z.grad_fn)\n",
    "print(z.requires_grad)\n",
    "\n",
    "new_z=z.detach()\n",
    "print(new_z.grad_fn)"
   ]
  },
  {
   "cell_type": "code",
   "execution_count": 176,
   "id": "77e25680",
   "metadata": {},
   "outputs": [
    {
     "name": "stdout",
     "output_type": "stream",
     "text": [
      "True\n",
      "True\n",
      "False\n"
     ]
    }
   ],
   "source": [
    "print(x.requires_grad)\n",
    "print((x**2).requires_grad)\n",
    "\n",
    "with torch.no_grad():\n",
    "    print((x**2).requires_grad)\n"
   ]
  },
  {
   "cell_type": "code",
   "execution_count": 177,
   "id": "0dedfe28",
   "metadata": {},
   "outputs": [
    {
     "name": "stdout",
     "output_type": "stream",
     "text": [
      "tensor([[-0.3738,  1.4904],\n",
      "        [-1.2968, -0.3243]], requires_grad=True)\n"
     ]
    }
   ],
   "source": [
    "print(x)"
   ]
  },
  {
   "cell_type": "code",
   "execution_count": 178,
   "id": "f737b39e",
   "metadata": {},
   "outputs": [
    {
     "name": "stdout",
     "output_type": "stream",
     "text": [
      "tensor([[ 0.3105, -0.3423],\n",
      "        [ 0.6976,  1.4117]], requires_grad=True)\n"
     ]
    }
   ],
   "source": [
    "print(y)"
   ]
  },
  {
   "cell_type": "code",
   "execution_count": 179,
   "id": "4c2a62b0",
   "metadata": {},
   "outputs": [
    {
     "name": "stdout",
     "output_type": "stream",
     "text": [
      "tensor([[0.2362, 2.3385],\n",
      "        [2.1684, 2.0981]], grad_fn=<AddBackward0>)\n"
     ]
    }
   ],
   "source": [
    "z=x**2+y**2\n",
    "print(z)\n"
   ]
  },
  {
   "cell_type": "code",
   "execution_count": 180,
   "id": "fc5f7768",
   "metadata": {},
   "outputs": [
    {
     "name": "stdout",
     "output_type": "stream",
     "text": [
      "tensor(6.8410, grad_fn=<SumBackward0>)\n"
     ]
    }
   ],
   "source": [
    "s=z.sum()\n",
    "print(s)\n"
   ]
  },
  {
   "cell_type": "code",
   "execution_count": 181,
   "id": "93cdfb35",
   "metadata": {},
   "outputs": [
    {
     "name": "stdout",
     "output_type": "stream",
     "text": [
      "tensor([[-0.7476,  2.9808],\n",
      "        [-2.5936, -0.6486]])\n",
      "tensor([[ 0.6211, -0.6846],\n",
      "        [ 1.3951,  2.8234]])\n"
     ]
    }
   ],
   "source": [
    "s.backward()\n",
    "print(x.grad)\n",
    "print(y.grad)"
   ]
  }
 ],
 "metadata": {
  "kernelspec": {
   "display_name": "Python 3",
   "language": "python",
   "name": "python3"
  },
  "language_info": {
   "codemirror_mode": {
    "name": "ipython",
    "version": 3
   },
   "file_extension": ".py",
   "mimetype": "text/x-python",
   "name": "python",
   "nbconvert_exporter": "python",
   "pygments_lexer": "ipython3",
   "version": "3.12.8"
  }
 },
 "nbformat": 4,
 "nbformat_minor": 5
}
